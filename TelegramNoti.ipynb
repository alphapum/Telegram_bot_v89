{
 "cells": [
  {
   "cell_type": "markdown",
   "metadata": {},
   "source": [
    "## Use libary Telegram bot Notification \n",
    "\n",
    "!pip install pyTelegramBotAPI\n",
    "\n",
    "ref: https://pytba.readthedocs.io/en/latest/sync_version/index.html#telebot.TeleBot.get_chat"
   ]
  },
  {
   "cell_type": "code",
   "execution_count": 3,
   "metadata": {},
   "outputs": [],
   "source": [
    "import telebot\n",
    "\n"
   ]
  },
  {
   "cell_type": "code",
   "execution_count": 14,
   "metadata": {},
   "outputs": [],
   "source": [
    "# Replace 'YOUR_BOT_TOKEN' with your actual token\n",
    "bot_token = \" \" # API bot token from botfather.\n",
    "\n",
    "bot = telebot.TeleBot(bot_token)\n",
    "\n"
   ]
  },
  {
   "cell_type": "code",
   "execution_count": 15,
   "metadata": {},
   "outputs": [],
   "source": [
    "@bot.message_handler(commands=['start', 'help'])\n",
    "def send_welcome(message):\n",
    "\tbot.reply_to(message, \"Howdy, how are you doing?\")\n",
    "\n",
    "@bot.message_handler(func=lambda message: True)\n",
    "def echo_all(message):\n",
    "\tbot.reply_to(message, message.text)\n",
    "\n"
   ]
  },
  {
   "cell_type": "code",
   "execution_count": null,
   "metadata": {},
   "outputs": [],
   "source": [
    "bot.infinity_polling()"
   ]
  },
  {
   "cell_type": "markdown",
   "metadata": {},
   "source": [
    "## Use import API only\n",
    "\n",
    "!pip install  requests\n",
    "\n",
    "ref: https://core.telegram.org/bots/api#getchat"
   ]
  },
  {
   "cell_type": "markdown",
   "metadata": {},
   "source": [
    "### Use this method to receive incoming updates using long polling - and get ChatID"
   ]
  },
  {
   "cell_type": "code",
   "execution_count": 36,
   "metadata": {},
   "outputs": [],
   "source": [
    "import requests\n",
    "\n",
    "url = f\"https://api.telegram.org/bot{bot_token}/getUpdates\"\n"
   ]
  },
  {
   "cell_type": "code",
   "execution_count": null,
   "metadata": {},
   "outputs": [],
   "source": [
    "\n",
    "def res(url):\n",
    "    response = requests.post(url)\n",
    "\n",
    "    if response.status_code == 200:\n",
    "        print(response.text)  # it's chat_id before title_name group \n",
    "    else:\n",
    "        print(\"Error sending message:\", response.text) "
   ]
  },
  {
   "cell_type": "markdown",
   "metadata": {},
   "source": [
    "### Send message to group id"
   ]
  },
  {
   "cell_type": "code",
   "execution_count": null,
   "metadata": {},
   "outputs": [],
   "source": [
    "text = \"Hello V89 bot Python!\"\n",
    "chat_id = \"\"  # Replace with the chat ID where you want to send the message\n",
    "\n",
    "url = f\"https://api.telegram.org/bot{bot_token}/sendMessage?chat_id={chat_id}&text={text}\"\n",
    "\n",
    "res(url)"
   ]
  },
  {
   "cell_type": "markdown",
   "metadata": {},
   "source": [
    "### GetMe informations about bot"
   ]
  },
  {
   "cell_type": "code",
   "execution_count": null,
   "metadata": {},
   "outputs": [],
   "source": [
    "url = f\"https://api.telegram.org/bot{bot_token}/getMe\"\n",
    "\n",
    "res(url)"
   ]
  },
  {
   "cell_type": "markdown",
   "metadata": {},
   "source": [
    "### GetChat Chat Full info"
   ]
  },
  {
   "cell_type": "code",
   "execution_count": null,
   "metadata": {},
   "outputs": [],
   "source": [
    "url = f\"https://api.telegram.org/bot{bot_token}/getChat?chat_id={chat_id}\"\n",
    "res(url)"
   ]
  },
  {
   "cell_type": "code",
   "execution_count": null,
   "metadata": {},
   "outputs": [],
   "source": [
    "url = f\"https://api.telegram.org/bot{bot_token}/getUpdates\"\n",
    "\n",
    "response = requests.get(url)\n",
    "\n",
    "if response.status_code == 200:\n",
    "    updates = response.json()[\"result\"]\n",
    "    for update in updates:\n",
    "        message = update[\"message\"]\n",
    "        chat_id = message[\"chat\"][\"id\"]\n",
    "        text = message[\"text\"]\n",
    "\n",
    "        if text.startswith(\"/\"):\n",
    "            command = text.split()[0]\n",
    "            if command == \"/start\":\n",
    "                bot.send_message(chat_id, \"Hello!\")\n",
    "            elif command == \"/help\":\n",
    "                bot.send_message(chat_id, \"This is a help message.\")\n",
    "        else:\n",
    "            bot.send_message(chat_id, \"I received your message.\")\n",
    "else:\n",
    "    print(\"Error:\", response.text)"
   ]
  }
 ],
 "metadata": {
  "kernelspec": {
   "display_name": "notifications",
   "language": "python",
   "name": "python3"
  },
  "language_info": {
   "codemirror_mode": {
    "name": "ipython",
    "version": 3
   },
   "file_extension": ".py",
   "mimetype": "text/x-python",
   "name": "python",
   "nbconvert_exporter": "python",
   "pygments_lexer": "ipython3",
   "version": "3.11.7"
  }
 },
 "nbformat": 4,
 "nbformat_minor": 2
}
